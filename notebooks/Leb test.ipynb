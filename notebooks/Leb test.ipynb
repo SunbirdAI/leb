{
 "cells": [
  {
   "cell_type": "code",
   "execution_count": 1,
   "id": "cbed12e4-cf71-4d7b-9bfe-b4e3e57c17b2",
   "metadata": {},
   "outputs": [],
   "source": [
    "import sys\n",
    "sys.path.append('..')\n",
    "import dataset\n",
    "import yaml"
   ]
  },
  {
   "cell_type": "markdown",
   "id": "4660897f-5955-4584-bbec-22b89c20ab63",
   "metadata": {},
   "source": [
    "## Example datasets from SALT format\n",
    "\n",
    "- Luganda and Acholi text to English text (multiple-to-one translation)"
   ]
  },
  {
   "cell_type": "code",
   "execution_count": 2,
   "id": "12e3e539-f3cf-43bc-9a6d-3fe7d279637c",
   "metadata": {},
   "outputs": [
    {
     "data": {
      "application/vnd.jupyter.widget-view+json": {
       "model_id": "8d2853c01a564680886fb22ae7709d0e",
       "version_major": 2,
       "version_minor": 0
      },
      "text/plain": [
       "Generating train split: 0 examples [00:00, ? examples/s]"
      ]
     },
     "metadata": {},
     "output_type": "display_data"
    },
    {
     "data": {
      "text/plain": [
       "[{'source': '>>eng<< lug1', 'target': 'eng1'},\n",
       " {'source': '>>eng<< ach1', 'target': 'eng1'},\n",
       " {'source': '>>eng<< lug2', 'target': 'eng2'},\n",
       " {'source': '>>eng<< ach2', 'target': 'eng2'},\n",
       " {'source': '>>eng<< lug3', 'target': 'eng3'},\n",
       " {'source': '>>eng<< ach3', 'target': 'eng3'}]"
      ]
     },
     "execution_count": 2,
     "metadata": {},
     "output_type": "execute_result"
    }
   ],
   "source": [
    "yaml_config = '''\n",
    "huggingface_load:\n",
    "  join: \n",
    "      - path: jq/audio_mock_1\n",
    "        split: train\n",
    "      - path: jq/translate_mock_1\n",
    "        split: train\n",
    "source:\n",
    "  type: text\n",
    "  language: [lug, ach]\n",
    "  preprocessing:\n",
    "      - prefix_target_language\n",
    "target:\n",
    "  type: text\n",
    "  language: eng\n",
    "'''\n",
    "\n",
    "config = yaml.safe_load(yaml_config)\n",
    "ds = dataset.create(config)\n",
    "list(ds)"
   ]
  },
  {
   "cell_type": "markdown",
   "id": "55754081-7441-4b69-94f4-bd757cc150fe",
   "metadata": {},
   "source": [
    "- Luganda and Acholi audio to English text (speech translation)"
   ]
  },
  {
   "cell_type": "code",
   "execution_count": 5,
   "id": "e2f8582f-12f9-4b0b-807e-5fc617e15b64",
   "metadata": {},
   "outputs": [
    {
     "data": {
      "text/plain": [
       "[{'source': {'path': None,\n",
       "   'array': array([0.09997559, 0.09997559, 0.09997559]),\n",
       "   'sampling_rate': 16000},\n",
       "  'target': 'eng1'},\n",
       " {'source': {'path': None,\n",
       "   'array': array([0.29998779, 0.29998779, 0.29998779]),\n",
       "   'sampling_rate': 16000},\n",
       "  'target': 'eng1'},\n",
       " {'source': {'path': None,\n",
       "   'array': array([0.79998779, 0.79998779, 0.79998779]),\n",
       "   'sampling_rate': 16000},\n",
       "  'target': 'eng1'},\n",
       " {'source': {'path': None,\n",
       "   'array': array([0.19998169, 0.19998169, 0.19998169]),\n",
       "   'sampling_rate': 16000},\n",
       "  'target': 'eng2'},\n",
       " {'source': {'path': None,\n",
       "   'array': array([0.3999939, 0.3999939, 0.3999939]),\n",
       "   'sampling_rate': 16000},\n",
       "  'target': 'eng2'}]"
      ]
     },
     "execution_count": 5,
     "metadata": {},
     "output_type": "execute_result"
    }
   ],
   "source": [
    "yaml_config = '''\n",
    "huggingface_load:\n",
    "  join: \n",
    "      - path: jq/audio_mock_1\n",
    "        split: train\n",
    "      - path: jq/translate_mock_1\n",
    "        split: train\n",
    "source:\n",
    "  type: speech\n",
    "  language: [lug, ach]\n",
    "target:\n",
    "  type: text\n",
    "  language: eng\n",
    "'''\n",
    "\n",
    "config = yaml.safe_load(yaml_config)\n",
    "ds = dataset.create(config)\n",
    "list(ds)"
   ]
  },
  {
   "cell_type": "code",
   "execution_count": null,
   "id": "bdf11ca7-548c-4303-8be7-e5f609beb4e3",
   "metadata": {},
   "outputs": [],
   "source": []
  }
 ],
 "metadata": {
  "kernelspec": {
   "display_name": "Python 3 (ipykernel)",
   "language": "python",
   "name": "python3"
  },
  "language_info": {
   "codemirror_mode": {
    "name": "ipython",
    "version": 3
   },
   "file_extension": ".py",
   "mimetype": "text/x-python",
   "name": "python",
   "nbconvert_exporter": "python",
   "pygments_lexer": "ipython3",
   "version": "3.9.7"
  }
 },
 "nbformat": 4,
 "nbformat_minor": 5
}
